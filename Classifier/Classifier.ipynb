{
 "cells": [
  {
   "cell_type": "code",
   "execution_count": 7,
   "metadata": {},
   "outputs": [],
   "source": [
    "import torch\n",
    "import torch.nn as nn\n",
    "import torch.optim as optim\n",
    "from torch.utils.data import Dataset, DataLoader\n",
    "import torchvision.transforms as transforms\n",
    "from PIL import Image\n",
    "import pandas as pd\n",
    "import matplotlib.pyplot as plt\n",
    "from sklearn.preprocessing import StandardScaler\n",
    "from sklearn.model_selection import train_test_split\n",
    "import os"
   ]
  },
  {
   "cell_type": "code",
   "execution_count": 8,
   "metadata": {},
   "outputs": [],
   "source": [
    "# Constants\n",
    "image_dir = './extracted_snippets'\n",
    "csv_path = './extracted_snippets/snippet_records.csv'\n",
    "classes = ['Calanoid_1', 'Cyclopoid_1', 'Bosmina_1', 'Herpacticoida', 'Chironomid', 'Chydoridae', 'Daphnia', 'Other']"
   ]
  },
  {
   "cell_type": "code",
   "execution_count": 9,
   "metadata": {},
   "outputs": [],
   "source": [
    "# Dataset definition\n",
    "class SnippetDataset(Dataset):\n",
    "    def __init__(self, df, image_dir, transform=None):\n",
    "        self.df = df\n",
    "        self.image_dir = image_dir\n",
    "        self.transform = transform\n",
    "        self.scaler = StandardScaler()\n",
    "        self.numerical_features = self.df[['Diameter..ABD.', 'Diameter..ESD.', 'Convexity', 'Symmetry']]\n",
    "        self.numerical_features = self.scaler.fit_transform(self.numerical_features)\n",
    "\n",
    "    def __len__(self):\n",
    "        return len(self.df)\n",
    "\n",
    "    def __getitem__(self, idx):\n",
    "        row = self.df.iloc[idx]\n",
    "        filename = row['Snippet.File']\n",
    "        class_label = [cls for cls in classes if cls in filename][0]\n",
    "        label = classes.index(class_label)\n",
    "        image_path = os.path.join(self.image_dir, class_label, filename)\n",
    "\n",
    "        image = Image.open(image_path).convert('RGB')\n",
    "        if self.transform:\n",
    "            image = self.transform(image)\n",
    "\n",
    "        numerical_features = torch.tensor(self.numerical_features[idx], dtype=torch.float32)\n",
    "\n",
    "        return image, numerical_features, label"
   ]
  },
  {
   "cell_type": "code",
   "execution_count": 10,
   "metadata": {},
   "outputs": [],
   "source": [
    "# Model definition combining CNN and dense network for numerical features\n",
    "class SnippetClassifier(nn.Module):\n",
    "    def __init__(self, num_numerical_features, num_classes):\n",
    "        super(SnippetClassifier, self).__init__()\n",
    "        self.cnn = nn.Sequential(\n",
    "            nn.Conv2d(3, 16, kernel_size=3, padding=1),\n",
    "            nn.ReLU(),\n",
    "            nn.MaxPool2d(2),\n",
    "            nn.Conv2d(16, 32, kernel_size=3, padding=1),\n",
    "            nn.ReLU(),\n",
    "            nn.MaxPool2d(2),\n",
    "            nn.AdaptiveAvgPool2d((4, 4))\n",
    "        )\n",
    "\n",
    "        self.image_fc = nn.Sequential(\n",
    "            nn.Flatten(),\n",
    "            nn.Linear(32 * 4 * 4, 64),\n",
    "            nn.ReLU()\n",
    "        )\n",
    "\n",
    "        self.feature_fc = nn.Sequential(\n",
    "            nn.Linear(4, 16),\n",
    "            nn.ReLU(),\n",
    "            nn.Linear(16, 32),\n",
    "            nn.ReLU()\n",
    "        )\n",
    "\n",
    "        self.classifier = nn.Sequential(\n",
    "            nn.Linear(64 + 32, 64),\n",
    "            nn.ReLU(),\n",
    "            nn.Linear(64, num_classes)\n",
    "        )\n",
    "\n",
    "    def forward(self, images, numerical_features):\n",
    "        img_features = self.image_fc(self.cnn(images))\n",
    "        num_features = self.feature_fc(numerical_features)\n",
    "        combined = torch.cat((img_features, num_features), dim=1)\n",
    "        out = self.classifier(combined)\n",
    "        return out"
   ]
  },
  {
   "cell_type": "code",
   "execution_count": 11,
   "metadata": {},
   "outputs": [],
   "source": [
    "# Transformations\n",
    "transform = transforms.Compose([\n",
    "    transforms.Resize((64, 64)),\n",
    "    transforms.ToTensor()\n",
    "])\n",
    "\n",
    "# Load and split data\n",
    "snippet_df = pd.read_csv(csv_path)\n",
    "train_df, temp_df = train_test_split(snippet_df, test_size=0.3, random_state=42)\n",
    "val_df, test_df = train_test_split(temp_df, test_size=0.5, random_state=42)\n",
    "\n",
    "train_dataset = SnippetDataset(train_df, image_dir, transform=transform)\n",
    "val_dataset = SnippetDataset(val_df, image_dir, transform=transform)\n",
    "test_dataset = SnippetDataset(test_df, image_dir, transform=transform)\n",
    "\n",
    "train_loader = DataLoader(train_dataset, batch_size=32, shuffle=True)\n",
    "val_loader = DataLoader(val_dataset, batch_size=32)\n",
    "test_loader = DataLoader(test_dataset, batch_size=32)"
   ]
  },
  {
   "cell_type": "code",
   "execution_count": 12,
   "metadata": {},
   "outputs": [
    {
     "name": "stdout",
     "output_type": "stream",
     "text": [
      "Epoch 1, Train Loss: 0.4224, Val Loss: 0.3334, Val Acc: 0.8771\n",
      "Epoch 2, Train Loss: 0.3023, Val Loss: 0.2716, Val Acc: 0.9039\n",
      "Epoch 3, Train Loss: 0.2615, Val Loss: 0.2651, Val Acc: 0.9075\n",
      "Epoch 4, Train Loss: 0.2388, Val Loss: 0.2483, Val Acc: 0.9157\n",
      "Epoch 5, Train Loss: 0.2240, Val Loss: 0.2221, Val Acc: 0.9241\n",
      "Epoch 6, Train Loss: 0.2136, Val Loss: 0.2190, Val Acc: 0.9268\n",
      "Epoch 7, Train Loss: 0.2066, Val Loss: 0.2151, Val Acc: 0.9286\n",
      "Epoch 8, Train Loss: 0.2011, Val Loss: 0.2182, Val Acc: 0.9290\n",
      "Epoch 9, Train Loss: 0.1968, Val Loss: 0.2009, Val Acc: 0.9341\n",
      "Epoch 10, Train Loss: 0.1937, Val Loss: 0.2078, Val Acc: 0.9295\n",
      "Epoch 11, Train Loss: 0.1905, Val Loss: 0.1973, Val Acc: 0.9356\n",
      "Epoch 12, Train Loss: 0.1883, Val Loss: 0.2055, Val Acc: 0.9319\n",
      "Epoch 13, Train Loss: 0.1860, Val Loss: 0.1991, Val Acc: 0.9357\n",
      "Epoch 14, Train Loss: 0.1833, Val Loss: 0.2137, Val Acc: 0.9278\n",
      "Epoch 15, Train Loss: 0.1811, Val Loss: 0.1967, Val Acc: 0.9352\n",
      "Epoch 16, Train Loss: 0.1796, Val Loss: 0.2042, Val Acc: 0.9339\n",
      "Epoch 17, Train Loss: 0.1783, Val Loss: 0.1917, Val Acc: 0.9378\n",
      "Epoch 18, Train Loss: 0.1765, Val Loss: 0.2027, Val Acc: 0.9341\n",
      "Epoch 19, Train Loss: 0.1753, Val Loss: 0.1981, Val Acc: 0.9365\n",
      "Epoch 20, Train Loss: 0.1744, Val Loss: 0.2004, Val Acc: 0.9354\n"
     ]
    },
    {
     "data": {
      "image/png": "[encoded data removed]",
      "text/plain": [
       "<Figure size 1000x500 with 1 Axes>"
      ]
     },
     "metadata": {},
     "output_type": "display_data"
    }
   ],
   "source": [
    "# Initialize model\n",
    "model = SnippetClassifier(num_numerical_features=4, num_classes=len(classes))\n",
    "criterion = nn.CrossEntropyLoss()\n",
    "optimizer = optim.Adam(model.parameters(), lr=0.001)\n",
    "\n",
    "train_losses, val_losses = [], []\n",
    "\n",
    "# Training loop\n",
    "for epoch in range(20):\n",
    "    model.train()\n",
    "    train_loss = 0\n",
    "    for images, features, labels in train_loader:\n",
    "        optimizer.zero_grad()\n",
    "        outputs = model(images, features)\n",
    "        loss = criterion(outputs, labels)\n",
    "        loss.backward()\n",
    "        optimizer.step()\n",
    "        train_loss += loss.item()\n",
    "    train_loss /= len(train_loader)\n",
    "    train_losses.append(train_loss)\n",
    "\n",
    "    model.eval()\n",
    "    val_loss = 0\n",
    "    correct = 0\n",
    "    with torch.no_grad():\n",
    "        for images, features, labels in val_loader:\n",
    "            outputs = model(images, features)\n",
    "            loss = criterion(outputs, labels)\n",
    "            val_loss += loss.item()\n",
    "            preds = torch.argmax(outputs, dim=1)\n",
    "            correct += (preds == labels).sum().item()\n",
    "    val_loss /= len(val_loader)\n",
    "    val_losses.append(val_loss)\n",
    "    val_accuracy = correct / len(val_dataset)\n",
    "\n",
    "    print(f'Epoch {epoch+1}, Train Loss: {train_loss:.4f}, Val Loss: {val_loss:.4f}, Val Acc: {val_accuracy:.4f}')\n",
    "\n",
    "# Plot loss graph\n",
    "plt.figure(figsize=(10, 5))\n",
    "plt.plot(train_losses, label='Train Loss')\n",
    "plt.plot(val_losses, label='Validation Loss')\n",
    "plt.xlabel('Epoch')\n",
    "plt.ylabel('Loss')\n",
    "plt.legend()\n",
    "plt.title('Loss over Epochs')\n",
    "plt.show()\n",
    "\n",
    "# Save the model\n",
    "torch.save(model.state_dict(), 'snippet_classifier.pth')"
   ]
  },
  {
   "cell_type": "code",
   "execution_count": 13,
   "metadata": {},
   "outputs": [],
   "source": [
    "# Classification for new snippet\n",
    "def classify_snippet(image_path, numerical_features, model, transform, scaler):\n",
    "    model.eval()\n",
    "    image = Image.open(image_path).convert('RGB')\n",
    "    image = transform(image).unsqueeze(0)\n",
    "    numerical_features = scaler.transform([numerical_features])\n",
    "    numerical_features = torch.tensor(numerical_features, dtype=torch.float32)\n",
    "    output = model(image, numerical_features)\n",
    "    _, predicted = torch.max(output, 1)\n",
    "    print(f\"Predicted class: {classes[predicted.item()]}\")"
   ]
  },
  {
   "cell_type": "code",
   "execution_count": 14,
   "metadata": {},
   "outputs": [
    {
     "name": "stdout",
     "output_type": "stream",
     "text": [
      "Predicted class: Cyclopoid_1\n"
     ]
    },
    {
     "name": "stderr",
     "output_type": "stream",
     "text": [
      "c:\\Users\\User\\AppData\\Local\\Programs\\Python\\Python311\\Lib\\site-packages\\sklearn\\utils\\validation.py:2739: UserWarning: X does not have valid feature names, but StandardScaler was fitted with feature names\n",
      "  warnings.warn(\n"
     ]
    }
   ],
   "source": [
    "# Example usage\n",
    "snippet_image_path = './extracted_snippets/Cyclopoid_1/20170510_SIMC_095_2mm_rep1_KG_data_Particle_1_Cyclopoid_1.png'\n",
    "numerical_features_example = [505, 821, 0.61, 0.318]\n",
    "classify_snippet(snippet_image_path, numerical_features_example, model, transform, train_dataset.scaler)\n"
   ]
  },
  {
   "cell_type": "code",
   "execution_count": null,
   "metadata": {},
   "outputs": [],
   "source": []
  },
  {
   "cell_type": "code",
   "execution_count": null,
   "metadata": {},
   "outputs": [],
   "source": []
  }
 ],
 "metadata": {
  "kernelspec": {
   "display_name": "Python 3",
   "language": "python",
   "name": "python3"
  },
  "language_info": {
   "codemirror_mode": {
    "name": "ipython",
    "version": 3
   },
   "file_extension": ".py",
   "mimetype": "text/x-python",
   "name": "python",
   "nbconvert_exporter": "python",
   "pygments_lexer": "ipython3",
   "version": "3.11.2"
  }
 },
 "nbformat": 4,
 "nbformat_minor": 2
}
